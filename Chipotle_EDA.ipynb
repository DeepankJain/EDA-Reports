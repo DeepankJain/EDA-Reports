{
  "nbformat": 4,
  "nbformat_minor": 0,
  "metadata": {
    "colab": {
      "name": "Chipotle_EDA.ipynb",
      "version": "0.3.2",
      "provenance": [],
      "include_colab_link": true
    },
    "kernelspec": {
      "name": "python3",
      "display_name": "Python 3"
    }
  },
  "cells": [
    {
      "cell_type": "markdown",
      "metadata": {
        "id": "view-in-github",
        "colab_type": "text"
      },
      "source": [
        "<a href=\"https://colab.research.google.com/github/DeepankJain/EDA-Reports/blob/master/Chipotle_EDA.ipynb\" target=\"_parent\"><img src=\"https://colab.research.google.com/assets/colab-badge.svg\" alt=\"Open In Colab\"/></a>"
      ]
    },
    {
      "metadata": {
        "id": "0_GLj04mZtmu",
        "colab_type": "text"
      },
      "cell_type": "markdown",
      "source": [
        "Step 1: Dataset: Chipotle\n",
        "\n",
        "---\n",
        "\n",
        "Step 2: Objective: Various operations on the given resturant dataset"
      ]
    },
    {
      "metadata": {
        "id": "OrZnjn3ZZpZI",
        "colab_type": "code",
        "colab": {}
      },
      "cell_type": "code",
      "source": [
        "#importing the libraries\n",
        "import numpy as np\n",
        "import pandas as pd\n",
        "import matplotlib.pyplot as plt\n",
        "%matplotlib inline\n",
        "import seaborn as sns\n",
        "from collections import Counter"
      ],
      "execution_count": 0,
      "outputs": []
    },
    {
      "metadata": {
        "id": "XGLjjhLFaXiY",
        "colab_type": "code",
        "colab": {
          "base_uri": "https://localhost:8080/",
          "height": 204
        },
        "outputId": "e24414b0-51d0-4467-e749-cc9cc0b0412d"
      },
      "cell_type": "code",
      "source": [
        "#loading the dataset\n",
        "url = 'https://raw.githubusercontent.com/justmarkham/DAT8/master/data/chipotle.tsv'\n",
        "df = pd.read_csv(url, sep = '\\t')\n",
        "df.head()"
      ],
      "execution_count": 2,
      "outputs": [
        {
          "output_type": "execute_result",
          "data": {
            "text/html": [
              "<div>\n",
              "<style scoped>\n",
              "    .dataframe tbody tr th:only-of-type {\n",
              "        vertical-align: middle;\n",
              "    }\n",
              "\n",
              "    .dataframe tbody tr th {\n",
              "        vertical-align: top;\n",
              "    }\n",
              "\n",
              "    .dataframe thead th {\n",
              "        text-align: right;\n",
              "    }\n",
              "</style>\n",
              "<table border=\"1\" class=\"dataframe\">\n",
              "  <thead>\n",
              "    <tr style=\"text-align: right;\">\n",
              "      <th></th>\n",
              "      <th>order_id</th>\n",
              "      <th>quantity</th>\n",
              "      <th>item_name</th>\n",
              "      <th>choice_description</th>\n",
              "      <th>item_price</th>\n",
              "    </tr>\n",
              "  </thead>\n",
              "  <tbody>\n",
              "    <tr>\n",
              "      <th>0</th>\n",
              "      <td>1</td>\n",
              "      <td>1</td>\n",
              "      <td>Chips and Fresh Tomato Salsa</td>\n",
              "      <td>NaN</td>\n",
              "      <td>$2.39</td>\n",
              "    </tr>\n",
              "    <tr>\n",
              "      <th>1</th>\n",
              "      <td>1</td>\n",
              "      <td>1</td>\n",
              "      <td>Izze</td>\n",
              "      <td>[Clementine]</td>\n",
              "      <td>$3.39</td>\n",
              "    </tr>\n",
              "    <tr>\n",
              "      <th>2</th>\n",
              "      <td>1</td>\n",
              "      <td>1</td>\n",
              "      <td>Nantucket Nectar</td>\n",
              "      <td>[Apple]</td>\n",
              "      <td>$3.39</td>\n",
              "    </tr>\n",
              "    <tr>\n",
              "      <th>3</th>\n",
              "      <td>1</td>\n",
              "      <td>1</td>\n",
              "      <td>Chips and Tomatillo-Green Chili Salsa</td>\n",
              "      <td>NaN</td>\n",
              "      <td>$2.39</td>\n",
              "    </tr>\n",
              "    <tr>\n",
              "      <th>4</th>\n",
              "      <td>2</td>\n",
              "      <td>2</td>\n",
              "      <td>Chicken Bowl</td>\n",
              "      <td>[Tomatillo-Red Chili Salsa (Hot), [Black Beans...</td>\n",
              "      <td>$16.98</td>\n",
              "    </tr>\n",
              "  </tbody>\n",
              "</table>\n",
              "</div>"
            ],
            "text/plain": [
              "   order_id  quantity                              item_name  \\\n",
              "0         1         1           Chips and Fresh Tomato Salsa   \n",
              "1         1         1                                   Izze   \n",
              "2         1         1                       Nantucket Nectar   \n",
              "3         1         1  Chips and Tomatillo-Green Chili Salsa   \n",
              "4         2         2                           Chicken Bowl   \n",
              "\n",
              "                                  choice_description item_price  \n",
              "0                                                NaN     $2.39   \n",
              "1                                       [Clementine]     $3.39   \n",
              "2                                            [Apple]     $3.39   \n",
              "3                                                NaN     $2.39   \n",
              "4  [Tomatillo-Red Chili Salsa (Hot), [Black Beans...    $16.98   "
            ]
          },
          "metadata": {
            "tags": []
          },
          "execution_count": 2
        }
      ]
    },
    {
      "metadata": {
        "id": "5pA6FOejalap",
        "colab_type": "code",
        "colab": {
          "base_uri": "https://localhost:8080/",
          "height": 34
        },
        "outputId": "1148ec56-d848-49c2-8edf-411b1258c70a"
      },
      "cell_type": "code",
      "source": [
        "df.shape"
      ],
      "execution_count": 3,
      "outputs": [
        {
          "output_type": "execute_result",
          "data": {
            "text/plain": [
              "(4622, 5)"
            ]
          },
          "metadata": {
            "tags": []
          },
          "execution_count": 3
        }
      ]
    },
    {
      "metadata": {
        "id": "DTMRzVqxbPlS",
        "colab_type": "code",
        "colab": {
          "base_uri": "https://localhost:8080/",
          "height": 68
        },
        "outputId": "8dbc34db-e644-40f2-c59e-95d57689e7b8"
      },
      "cell_type": "code",
      "source": [
        "df.columns"
      ],
      "execution_count": 4,
      "outputs": [
        {
          "output_type": "execute_result",
          "data": {
            "text/plain": [
              "Index(['order_id', 'quantity', 'item_name', 'choice_description',\n",
              "       'item_price'],\n",
              "      dtype='object')"
            ]
          },
          "metadata": {
            "tags": []
          },
          "execution_count": 4
        }
      ]
    },
    {
      "metadata": {
        "id": "JH_4rUm7bQ75",
        "colab_type": "code",
        "colab": {
          "base_uri": "https://localhost:8080/",
          "height": 187
        },
        "outputId": "a91af865-b9a5-4ad4-9988-fa3a1aeef18c"
      },
      "cell_type": "code",
      "source": [
        "df.info()"
      ],
      "execution_count": 5,
      "outputs": [
        {
          "output_type": "stream",
          "text": [
            "<class 'pandas.core.frame.DataFrame'>\n",
            "RangeIndex: 4622 entries, 0 to 4621\n",
            "Data columns (total 5 columns):\n",
            "order_id              4622 non-null int64\n",
            "quantity              4622 non-null int64\n",
            "item_name             4622 non-null object\n",
            "choice_description    3376 non-null object\n",
            "item_price            4622 non-null object\n",
            "dtypes: int64(2), object(3)\n",
            "memory usage: 180.6+ KB\n"
          ],
          "name": "stdout"
        }
      ]
    },
    {
      "metadata": {
        "id": "jrdgupBKbTIX",
        "colab_type": "code",
        "colab": {
          "base_uri": "https://localhost:8080/",
          "height": 34
        },
        "outputId": "cf212c46-fbd2-42e7-f5a2-15b217a42dd4"
      },
      "cell_type": "code",
      "source": [
        "df.index"
      ],
      "execution_count": 6,
      "outputs": [
        {
          "output_type": "execute_result",
          "data": {
            "text/plain": [
              "RangeIndex(start=0, stop=4622, step=1)"
            ]
          },
          "metadata": {
            "tags": []
          },
          "execution_count": 6
        }
      ]
    },
    {
      "metadata": {
        "id": "PcKvLFoJbXTQ",
        "colab_type": "code",
        "colab": {
          "base_uri": "https://localhost:8080/",
          "height": 235
        },
        "outputId": "f419e2d9-16bd-4802-ae0a-eac738c9bc7b"
      },
      "cell_type": "code",
      "source": [
        "#Most ordered item\n",
        "var = df.groupby('item_name').sum()\n",
        "var = var.sort_values(['quantity'], ascending = False)\n",
        "var.head()"
      ],
      "execution_count": 9,
      "outputs": [
        {
          "output_type": "execute_result",
          "data": {
            "text/html": [
              "<div>\n",
              "<style scoped>\n",
              "    .dataframe tbody tr th:only-of-type {\n",
              "        vertical-align: middle;\n",
              "    }\n",
              "\n",
              "    .dataframe tbody tr th {\n",
              "        vertical-align: top;\n",
              "    }\n",
              "\n",
              "    .dataframe thead th {\n",
              "        text-align: right;\n",
              "    }\n",
              "</style>\n",
              "<table border=\"1\" class=\"dataframe\">\n",
              "  <thead>\n",
              "    <tr style=\"text-align: right;\">\n",
              "      <th></th>\n",
              "      <th>order_id</th>\n",
              "      <th>quantity</th>\n",
              "    </tr>\n",
              "    <tr>\n",
              "      <th>item_name</th>\n",
              "      <th></th>\n",
              "      <th></th>\n",
              "    </tr>\n",
              "  </thead>\n",
              "  <tbody>\n",
              "    <tr>\n",
              "      <th>Chicken Bowl</th>\n",
              "      <td>713926</td>\n",
              "      <td>761</td>\n",
              "    </tr>\n",
              "    <tr>\n",
              "      <th>Chicken Burrito</th>\n",
              "      <td>497303</td>\n",
              "      <td>591</td>\n",
              "    </tr>\n",
              "    <tr>\n",
              "      <th>Chips and Guacamole</th>\n",
              "      <td>449959</td>\n",
              "      <td>506</td>\n",
              "    </tr>\n",
              "    <tr>\n",
              "      <th>Steak Burrito</th>\n",
              "      <td>328437</td>\n",
              "      <td>386</td>\n",
              "    </tr>\n",
              "    <tr>\n",
              "      <th>Canned Soft Drink</th>\n",
              "      <td>304753</td>\n",
              "      <td>351</td>\n",
              "    </tr>\n",
              "  </tbody>\n",
              "</table>\n",
              "</div>"
            ],
            "text/plain": [
              "                     order_id  quantity\n",
              "item_name                              \n",
              "Chicken Bowl           713926       761\n",
              "Chicken Burrito        497303       591\n",
              "Chips and Guacamole    449959       506\n",
              "Steak Burrito          328437       386\n",
              "Canned Soft Drink      304753       351"
            ]
          },
          "metadata": {
            "tags": []
          },
          "execution_count": 9
        }
      ]
    },
    {
      "metadata": {
        "id": "MKjKRgsrb1Rm",
        "colab_type": "code",
        "colab": {
          "base_uri": "https://localhost:8080/",
          "height": 34
        },
        "outputId": "020b9a16-308b-44d5-9c1f-036b2671e3ee"
      },
      "cell_type": "code",
      "source": [
        "#How many items were ordered in total?\n",
        "total = df['quantity'].sum()\n",
        "print(total)"
      ],
      "execution_count": 13,
      "outputs": [
        {
          "output_type": "stream",
          "text": [
            "4972\n"
          ],
          "name": "stdout"
        }
      ]
    },
    {
      "metadata": {
        "id": "-4iIpJaWcWNT",
        "colab_type": "code",
        "colab": {
          "base_uri": "https://localhost:8080/",
          "height": 238
        },
        "outputId": "1ae4e713-ccf6-4d3b-f756-30d5c3e222f1"
      },
      "cell_type": "code",
      "source": [
        "#Turn the item price into a float\n",
        "convertFloat = lambda x: float(x[1:-1])\n",
        "df['item_price'] = df['item_price'].apply(convertFloat)\n",
        "print(df.head())"
      ],
      "execution_count": 15,
      "outputs": [
        {
          "output_type": "stream",
          "text": [
            "   order_id  quantity                              item_name  \\\n",
            "0         1         1           Chips and Fresh Tomato Salsa   \n",
            "1         1         1                                   Izze   \n",
            "2         1         1                       Nantucket Nectar   \n",
            "3         1         1  Chips and Tomatillo-Green Chili Salsa   \n",
            "4         2         2                           Chicken Bowl   \n",
            "\n",
            "                                  choice_description  item_price  \n",
            "0                                                NaN        2.39  \n",
            "1                                       [Clementine]        3.39  \n",
            "2                                            [Apple]        3.39  \n",
            "3                                                NaN        2.39  \n",
            "4  [Tomatillo-Red Chili Salsa (Hot), [Black Beans...       16.98  \n"
          ],
          "name": "stdout"
        }
      ]
    },
    {
      "metadata": {
        "id": "3Gx2BxAWdMeb",
        "colab_type": "code",
        "colab": {
          "base_uri": "https://localhost:8080/",
          "height": 34
        },
        "outputId": "f6b01c16-d32d-433c-eb9b-38bbeed6a8eb"
      },
      "cell_type": "code",
      "source": [
        "#Calculate the revenue for the period?\n",
        "revenue = (df['quantity']*df['item_price']).sum()\n",
        "print(revenue)"
      ],
      "execution_count": 17,
      "outputs": [
        {
          "output_type": "stream",
          "text": [
            "39237.02\n"
          ],
          "name": "stdout"
        }
      ]
    },
    {
      "metadata": {
        "id": "4P_h37bHdfk2",
        "colab_type": "code",
        "colab": {
          "base_uri": "https://localhost:8080/",
          "height": 34
        },
        "outputId": "b57205f7-11bc-4e3a-9579-66ed5fb7606f"
      },
      "cell_type": "code",
      "source": [
        "#How many orders were made in the period?\n",
        "orderCount = df['order_id'].value_counts().count()\n",
        "print(orderCount)"
      ],
      "execution_count": 21,
      "outputs": [
        {
          "output_type": "stream",
          "text": [
            "1834\n"
          ],
          "name": "stdout"
        }
      ]
    },
    {
      "metadata": {
        "id": "KX0_80Agd2d-",
        "colab_type": "code",
        "colab": {
          "base_uri": "https://localhost:8080/",
          "height": 34
        },
        "outputId": "6f20f4ed-f7a4-40e2-9d39-92e31d63a8fa"
      },
      "cell_type": "code",
      "source": [
        "#Average amount per order?\n",
        "print(revenue/orderCount)"
      ],
      "execution_count": 22,
      "outputs": [
        {
          "output_type": "stream",
          "text": [
            "21.39423118865867\n"
          ],
          "name": "stdout"
        }
      ]
    },
    {
      "metadata": {
        "id": "_7K0MotmeP1t",
        "colab_type": "code",
        "colab": {
          "base_uri": "https://localhost:8080/",
          "height": 34
        },
        "outputId": "12ac62fa-48fd-4a8c-e841-82d246fd06de"
      },
      "cell_type": "code",
      "source": [
        "#How many different items are sold?\n",
        "df['item_name'].value_counts().count()"
      ],
      "execution_count": 23,
      "outputs": [
        {
          "output_type": "execute_result",
          "data": {
            "text/plain": [
              "50"
            ]
          },
          "metadata": {
            "tags": []
          },
          "execution_count": 23
        }
      ]
    },
    {
      "metadata": {
        "id": "DAqzrvOkecXI",
        "colab_type": "code",
        "colab": {
          "base_uri": "https://localhost:8080/",
          "height": 1207
        },
        "outputId": "674cd641-5a09-45cd-f040-f7121688ce89"
      },
      "cell_type": "code",
      "source": [
        "#What is the price of each item.\n",
        "df_filtered = df.drop_duplicates(['item_name', 'quantity'])\n",
        "df_filtered['price_per_unit'] = df_filtered['item_price']/df_filtered['quantity']\n",
        "catalog = df_filtered[['item_name', 'price_per_unit']]\n",
        "print(catalog.sort_values(by = 'price_per_unit', ascending = False))"
      ],
      "execution_count": 25,
      "outputs": [
        {
          "output_type": "stream",
          "text": [
            "                                  item_name  price_per_unit\n",
            "606                        Steak Salad Bowl           11.89\n",
            "1132                    Carnitas Salad Bowl           11.89\n",
            "1229                    Barbacoa Salad Bowl           11.89\n",
            "281                        Steak Salad Bowl           11.89\n",
            "168                   Barbacoa Crispy Tacos           11.75\n",
            "39                            Barbacoa Bowl           11.75\n",
            "7                             Steak Burrito           11.75\n",
            "3480                          Carnitas Bowl           11.75\n",
            "506                           Carnitas Bowl           11.75\n",
            "135                      Chicken Salad Bowl           11.25\n",
            "62                              Veggie Bowl           11.25\n",
            "57                           Veggie Burrito           11.25\n",
            "186                       Veggie Salad Bowl           11.25\n",
            "3601                         Veggie Burrito           11.25\n",
            "738                       Veggie Soft Tacos           11.25\n",
            "250                           Chicken Salad           10.98\n",
            "5                              Chicken Bowl           10.98\n",
            "409                            Chicken Bowl           10.98\n",
            "1255                          Steak Burrito            9.25\n",
            "554                   Carnitas Crispy Tacos            9.25\n",
            "8                          Steak Soft Tacos            9.25\n",
            "237                     Carnitas Soft Tacos            9.25\n",
            "1903                  Barbacoa Crispy Tacos            9.25\n",
            "2581                       Carnitas Burrito            9.25\n",
            "56                      Barbacoa Soft Tacos            9.25\n",
            "4354                       Steak Soft Tacos            9.25\n",
            "92                       Steak Crispy Tacos            9.25\n",
            "664                             Steak Salad            8.99\n",
            "910                              Steak Bowl            8.99\n",
            "148                           Steak Burrito            8.99\n",
            "...                                     ...             ...\n",
            "111     Chips and Tomatillo Red Chili Salsa            2.95\n",
            "1555     Chips and Roasted Chili Corn Salsa            2.95\n",
            "1257           Chips and Fresh Tomato Salsa            2.95\n",
            "2656  Chips and Tomatillo-Green Chili Salsa            2.39\n",
            "3     Chips and Tomatillo-Green Chili Salsa            2.39\n",
            "2972    Chips and Tomatillo-Red Chili Salsa            2.39\n",
            "191      Chips and Roasted Chili-Corn Salsa            2.39\n",
            "0              Chips and Fresh Tomato Salsa            2.39\n",
            "300     Chips and Tomatillo-Red Chili Salsa            2.39\n",
            "2550    Chips and Tomatillo-Red Chili Salsa            2.39\n",
            "223                                   Chips            2.15\n",
            "2936                                  Chips            2.15\n",
            "40                                    Chips            2.15\n",
            "2944                          Side of Chips            1.69\n",
            "6                             Side of Chips            1.69\n",
            "3887                          Side of Chips            1.69\n",
            "540                           Bottled Water            1.50\n",
            "4152                          Bottled Water            1.50\n",
            "3599                          Bottled Water            1.50\n",
            "1425                          Bottled Water            1.50\n",
            "2441                          Bottled Water            1.50\n",
            "689                       Canned Soft Drink            1.25\n",
            "263                       Canned Soft Drink            1.25\n",
            "492                       Canned Soft Drink            1.25\n",
            "3973                      Canned Soft Drink            1.25\n",
            "28                              Canned Soda            1.09\n",
            "18                              Canned Soda            1.09\n",
            "34                            Bottled Water            1.09\n",
            "2235                            Canned Soda            1.09\n",
            "818                           Bottled Water            1.09\n",
            "\n",
            "[103 rows x 2 columns]\n"
          ],
          "name": "stdout"
        },
        {
          "output_type": "stream",
          "text": [
            "/usr/local/lib/python3.6/dist-packages/ipykernel_launcher.py:2: SettingWithCopyWarning: \n",
            "A value is trying to be set on a copy of a slice from a DataFrame.\n",
            "Try using .loc[row_indexer,col_indexer] = value instead\n",
            "\n",
            "See the caveats in the documentation: http://pandas.pydata.org/pandas-docs/stable/indexing.html#indexing-view-versus-copy\n",
            "  \n"
          ],
          "name": "stderr"
        }
      ]
    },
    {
      "metadata": {
        "id": "J5KErEk_eo9O",
        "colab_type": "code",
        "colab": {
          "base_uri": "https://localhost:8080/",
          "height": 1071
        },
        "outputId": "7af4f340-08bb-492f-ce10-b355045316d0"
      },
      "cell_type": "code",
      "source": [
        "#Sort by the name of the item\n",
        "df_filtered['item_name'].sort_values()"
      ],
      "execution_count": 26,
      "outputs": [
        {
          "output_type": "execute_result",
          "data": {
            "text/plain": [
              "298         6 Pack Soft Drink\n",
              "3389        6 Pack Soft Drink\n",
              "39              Barbacoa Bowl\n",
              "21           Barbacoa Burrito\n",
              "1903    Barbacoa Crispy Tacos\n",
              "168     Barbacoa Crispy Tacos\n",
              "1229      Barbacoa Salad Bowl\n",
              "56        Barbacoa Soft Tacos\n",
              "2441            Bottled Water\n",
              "4152            Bottled Water\n",
              "818             Bottled Water\n",
              "540             Bottled Water\n",
              "1425            Bottled Water\n",
              "3599            Bottled Water\n",
              "34              Bottled Water\n",
              "445                      Bowl\n",
              "673                      Bowl\n",
              "510                   Burrito\n",
              "18                Canned Soda\n",
              "2235              Canned Soda\n",
              "28                Canned Soda\n",
              "263         Canned Soft Drink\n",
              "3973        Canned Soft Drink\n",
              "492         Canned Soft Drink\n",
              "689         Canned Soft Drink\n",
              "33              Carnitas Bowl\n",
              "3480            Carnitas Bowl\n",
              "506             Carnitas Bowl\n",
              "2581         Carnitas Burrito\n",
              "27           Carnitas Burrito\n",
              "                ...          \n",
              "520              Crispy Tacos\n",
              "1                        Izze\n",
              "2            Nantucket Nectar\n",
              "601          Nantucket Nectar\n",
              "1414                    Salad\n",
              "3887            Side of Chips\n",
              "6               Side of Chips\n",
              "2944            Side of Chips\n",
              "3334               Steak Bowl\n",
              "910                Steak Bowl\n",
              "54                 Steak Bowl\n",
              "1255            Steak Burrito\n",
              "148             Steak Burrito\n",
              "7               Steak Burrito\n",
              "92         Steak Crispy Tacos\n",
              "2874       Steak Crispy Tacos\n",
              "664               Steak Salad\n",
              "606          Steak Salad Bowl\n",
              "281          Steak Salad Bowl\n",
              "8            Steak Soft Tacos\n",
              "4354         Steak Soft Tacos\n",
              "62                Veggie Bowl\n",
              "846               Veggie Bowl\n",
              "57             Veggie Burrito\n",
              "3601           Veggie Burrito\n",
              "1653      Veggie Crispy Tacos\n",
              "1694             Veggie Salad\n",
              "186         Veggie Salad Bowl\n",
              "3889        Veggie Soft Tacos\n",
              "738         Veggie Soft Tacos\n",
              "Name: item_name, Length: 103, dtype: object"
            ]
          },
          "metadata": {
            "tags": []
          },
          "execution_count": 26
        }
      ]
    },
    {
      "metadata": {
        "id": "iS72Rc8KfwPM",
        "colab_type": "code",
        "colab": {
          "base_uri": "https://localhost:8080/",
          "height": 204
        },
        "outputId": "029e7890-f3ef-4563-ea19-48fffc7e0676"
      },
      "cell_type": "code",
      "source": [
        "#Quantity of the most expensive item?\n",
        "df_filtered.sort_values(by = 'price_per_unit', ascending = False).head()"
      ],
      "execution_count": 27,
      "outputs": [
        {
          "output_type": "execute_result",
          "data": {
            "text/html": [
              "<div>\n",
              "<style scoped>\n",
              "    .dataframe tbody tr th:only-of-type {\n",
              "        vertical-align: middle;\n",
              "    }\n",
              "\n",
              "    .dataframe tbody tr th {\n",
              "        vertical-align: top;\n",
              "    }\n",
              "\n",
              "    .dataframe thead th {\n",
              "        text-align: right;\n",
              "    }\n",
              "</style>\n",
              "<table border=\"1\" class=\"dataframe\">\n",
              "  <thead>\n",
              "    <tr style=\"text-align: right;\">\n",
              "      <th></th>\n",
              "      <th>order_id</th>\n",
              "      <th>quantity</th>\n",
              "      <th>item_name</th>\n",
              "      <th>choice_description</th>\n",
              "      <th>item_price</th>\n",
              "      <th>price_per_unit</th>\n",
              "    </tr>\n",
              "  </thead>\n",
              "  <tbody>\n",
              "    <tr>\n",
              "      <th>606</th>\n",
              "      <td>250</td>\n",
              "      <td>1</td>\n",
              "      <td>Steak Salad Bowl</td>\n",
              "      <td>[Fresh Tomato Salsa, [Pinto Beans, Cheese, Gua...</td>\n",
              "      <td>11.89</td>\n",
              "      <td>11.89</td>\n",
              "    </tr>\n",
              "    <tr>\n",
              "      <th>1132</th>\n",
              "      <td>468</td>\n",
              "      <td>1</td>\n",
              "      <td>Carnitas Salad Bowl</td>\n",
              "      <td>[Fresh Tomato Salsa, [Rice, Black Beans, Chees...</td>\n",
              "      <td>11.89</td>\n",
              "      <td>11.89</td>\n",
              "    </tr>\n",
              "    <tr>\n",
              "      <th>1229</th>\n",
              "      <td>501</td>\n",
              "      <td>1</td>\n",
              "      <td>Barbacoa Salad Bowl</td>\n",
              "      <td>[Fresh Tomato Salsa, [Rice, Fajita Vegetables,...</td>\n",
              "      <td>11.89</td>\n",
              "      <td>11.89</td>\n",
              "    </tr>\n",
              "    <tr>\n",
              "      <th>281</th>\n",
              "      <td>123</td>\n",
              "      <td>2</td>\n",
              "      <td>Steak Salad Bowl</td>\n",
              "      <td>[Tomatillo Red Chili Salsa, [Black Beans, Chee...</td>\n",
              "      <td>23.78</td>\n",
              "      <td>11.89</td>\n",
              "    </tr>\n",
              "    <tr>\n",
              "      <th>168</th>\n",
              "      <td>75</td>\n",
              "      <td>1</td>\n",
              "      <td>Barbacoa Crispy Tacos</td>\n",
              "      <td>[Tomatillo Red Chili Salsa, [Rice, Black Beans...</td>\n",
              "      <td>11.75</td>\n",
              "      <td>11.75</td>\n",
              "    </tr>\n",
              "  </tbody>\n",
              "</table>\n",
              "</div>"
            ],
            "text/plain": [
              "      order_id  quantity              item_name  \\\n",
              "606        250         1       Steak Salad Bowl   \n",
              "1132       468         1    Carnitas Salad Bowl   \n",
              "1229       501         1    Barbacoa Salad Bowl   \n",
              "281        123         2       Steak Salad Bowl   \n",
              "168         75         1  Barbacoa Crispy Tacos   \n",
              "\n",
              "                                     choice_description  item_price  \\\n",
              "606   [Fresh Tomato Salsa, [Pinto Beans, Cheese, Gua...       11.89   \n",
              "1132  [Fresh Tomato Salsa, [Rice, Black Beans, Chees...       11.89   \n",
              "1229  [Fresh Tomato Salsa, [Rice, Fajita Vegetables,...       11.89   \n",
              "281   [Tomatillo Red Chili Salsa, [Black Beans, Chee...       23.78   \n",
              "168   [Tomatillo Red Chili Salsa, [Rice, Black Beans...       11.75   \n",
              "\n",
              "      price_per_unit  \n",
              "606            11.89  \n",
              "1132           11.89  \n",
              "1229           11.89  \n",
              "281            11.89  \n",
              "168            11.75  "
            ]
          },
          "metadata": {
            "tags": []
          },
          "execution_count": 27
        }
      ]
    },
    {
      "metadata": {
        "id": "-Y2wm4y4gDY3",
        "colab_type": "code",
        "colab": {
          "base_uri": "https://localhost:8080/",
          "height": 34
        },
        "outputId": "911151ed-bf62-4e52-8274-882018444518"
      },
      "cell_type": "code",
      "source": [
        "#How many times were Veggie Salad Bowl ordered?\n",
        "veggie_salad = df[df['item_name'] == 'Veggie Salad Bowl']\n",
        "len(veggie_salad)"
      ],
      "execution_count": 28,
      "outputs": [
        {
          "output_type": "execute_result",
          "data": {
            "text/plain": [
              "18"
            ]
          },
          "metadata": {
            "tags": []
          },
          "execution_count": 28
        }
      ]
    },
    {
      "metadata": {
        "id": "S2XYR5n6ga7q",
        "colab_type": "code",
        "colab": {
          "base_uri": "https://localhost:8080/",
          "height": 34
        },
        "outputId": "da60fe2f-4545-4949-9afa-1b1dcf8d4bc2"
      },
      "cell_type": "code",
      "source": [
        "#How many times people ordered more than one canned Soda?\n",
        "cannedSoda = df[(df['item_name'] == 'Canned Soda') & (df['quantity']>1)]\n",
        "print(len(cannedSoda))"
      ],
      "execution_count": 29,
      "outputs": [
        {
          "output_type": "stream",
          "text": [
            "20\n"
          ],
          "name": "stdout"
        }
      ]
    },
    {
      "metadata": {
        "id": "I8eq-0Z8hFEd",
        "colab_type": "code",
        "colab": {
          "base_uri": "https://localhost:8080/",
          "height": 119
        },
        "outputId": "c4d013c5-5a67-4410-fe67-97952f61903f"
      },
      "cell_type": "code",
      "source": [
        "#checking for missing values\n",
        "df.isnull().sum()"
      ],
      "execution_count": 30,
      "outputs": [
        {
          "output_type": "execute_result",
          "data": {
            "text/plain": [
              "order_id                 0\n",
              "quantity                 0\n",
              "item_name                0\n",
              "choice_description    1246\n",
              "item_price               0\n",
              "dtype: int64"
            ]
          },
          "metadata": {
            "tags": []
          },
          "execution_count": 30
        }
      ]
    },
    {
      "metadata": {
        "id": "8sdKse9dhYd8",
        "colab_type": "code",
        "colab": {}
      },
      "cell_type": "code",
      "source": [
        "df.drop('choice_description', axis = 1, inplace = True)"
      ],
      "execution_count": 0,
      "outputs": []
    },
    {
      "metadata": {
        "id": "IZOF_aIOhooe",
        "colab_type": "code",
        "colab": {
          "base_uri": "https://localhost:8080/",
          "height": 204
        },
        "outputId": "0268f48b-78cd-4391-ec31-83907b8b3dba"
      },
      "cell_type": "code",
      "source": [
        "df.head()"
      ],
      "execution_count": 32,
      "outputs": [
        {
          "output_type": "execute_result",
          "data": {
            "text/html": [
              "<div>\n",
              "<style scoped>\n",
              "    .dataframe tbody tr th:only-of-type {\n",
              "        vertical-align: middle;\n",
              "    }\n",
              "\n",
              "    .dataframe tbody tr th {\n",
              "        vertical-align: top;\n",
              "    }\n",
              "\n",
              "    .dataframe thead th {\n",
              "        text-align: right;\n",
              "    }\n",
              "</style>\n",
              "<table border=\"1\" class=\"dataframe\">\n",
              "  <thead>\n",
              "    <tr style=\"text-align: right;\">\n",
              "      <th></th>\n",
              "      <th>order_id</th>\n",
              "      <th>quantity</th>\n",
              "      <th>item_name</th>\n",
              "      <th>item_price</th>\n",
              "    </tr>\n",
              "  </thead>\n",
              "  <tbody>\n",
              "    <tr>\n",
              "      <th>0</th>\n",
              "      <td>1</td>\n",
              "      <td>1</td>\n",
              "      <td>Chips and Fresh Tomato Salsa</td>\n",
              "      <td>2.39</td>\n",
              "    </tr>\n",
              "    <tr>\n",
              "      <th>1</th>\n",
              "      <td>1</td>\n",
              "      <td>1</td>\n",
              "      <td>Izze</td>\n",
              "      <td>3.39</td>\n",
              "    </tr>\n",
              "    <tr>\n",
              "      <th>2</th>\n",
              "      <td>1</td>\n",
              "      <td>1</td>\n",
              "      <td>Nantucket Nectar</td>\n",
              "      <td>3.39</td>\n",
              "    </tr>\n",
              "    <tr>\n",
              "      <th>3</th>\n",
              "      <td>1</td>\n",
              "      <td>1</td>\n",
              "      <td>Chips and Tomatillo-Green Chili Salsa</td>\n",
              "      <td>2.39</td>\n",
              "    </tr>\n",
              "    <tr>\n",
              "      <th>4</th>\n",
              "      <td>2</td>\n",
              "      <td>2</td>\n",
              "      <td>Chicken Bowl</td>\n",
              "      <td>16.98</td>\n",
              "    </tr>\n",
              "  </tbody>\n",
              "</table>\n",
              "</div>"
            ],
            "text/plain": [
              "   order_id  quantity                              item_name  item_price\n",
              "0         1         1           Chips and Fresh Tomato Salsa        2.39\n",
              "1         1         1                                   Izze        3.39\n",
              "2         1         1                       Nantucket Nectar        3.39\n",
              "3         1         1  Chips and Tomatillo-Green Chili Salsa        2.39\n",
              "4         2         2                           Chicken Bowl       16.98"
            ]
          },
          "metadata": {
            "tags": []
          },
          "execution_count": 32
        }
      ]
    },
    {
      "metadata": {
        "id": "BxO--zv5hp6F",
        "colab_type": "code",
        "colab": {
          "base_uri": "https://localhost:8080/",
          "height": 297
        },
        "outputId": "d68c8e8d-0e3f-4927-cbfb-a8b61603ae17"
      },
      "cell_type": "code",
      "source": [
        "#Univariate Analysis\n",
        "#Non graphical\n",
        "df.describe()"
      ],
      "execution_count": 33,
      "outputs": [
        {
          "output_type": "execute_result",
          "data": {
            "text/html": [
              "<div>\n",
              "<style scoped>\n",
              "    .dataframe tbody tr th:only-of-type {\n",
              "        vertical-align: middle;\n",
              "    }\n",
              "\n",
              "    .dataframe tbody tr th {\n",
              "        vertical-align: top;\n",
              "    }\n",
              "\n",
              "    .dataframe thead th {\n",
              "        text-align: right;\n",
              "    }\n",
              "</style>\n",
              "<table border=\"1\" class=\"dataframe\">\n",
              "  <thead>\n",
              "    <tr style=\"text-align: right;\">\n",
              "      <th></th>\n",
              "      <th>order_id</th>\n",
              "      <th>quantity</th>\n",
              "      <th>item_price</th>\n",
              "    </tr>\n",
              "  </thead>\n",
              "  <tbody>\n",
              "    <tr>\n",
              "      <th>count</th>\n",
              "      <td>4622.000000</td>\n",
              "      <td>4622.000000</td>\n",
              "      <td>4622.000000</td>\n",
              "    </tr>\n",
              "    <tr>\n",
              "      <th>mean</th>\n",
              "      <td>927.254868</td>\n",
              "      <td>1.075725</td>\n",
              "      <td>7.464336</td>\n",
              "    </tr>\n",
              "    <tr>\n",
              "      <th>std</th>\n",
              "      <td>528.890796</td>\n",
              "      <td>0.410186</td>\n",
              "      <td>4.245557</td>\n",
              "    </tr>\n",
              "    <tr>\n",
              "      <th>min</th>\n",
              "      <td>1.000000</td>\n",
              "      <td>1.000000</td>\n",
              "      <td>1.090000</td>\n",
              "    </tr>\n",
              "    <tr>\n",
              "      <th>25%</th>\n",
              "      <td>477.250000</td>\n",
              "      <td>1.000000</td>\n",
              "      <td>3.390000</td>\n",
              "    </tr>\n",
              "    <tr>\n",
              "      <th>50%</th>\n",
              "      <td>926.000000</td>\n",
              "      <td>1.000000</td>\n",
              "      <td>8.750000</td>\n",
              "    </tr>\n",
              "    <tr>\n",
              "      <th>75%</th>\n",
              "      <td>1393.000000</td>\n",
              "      <td>1.000000</td>\n",
              "      <td>9.250000</td>\n",
              "    </tr>\n",
              "    <tr>\n",
              "      <th>max</th>\n",
              "      <td>1834.000000</td>\n",
              "      <td>15.000000</td>\n",
              "      <td>44.250000</td>\n",
              "    </tr>\n",
              "  </tbody>\n",
              "</table>\n",
              "</div>"
            ],
            "text/plain": [
              "          order_id     quantity   item_price\n",
              "count  4622.000000  4622.000000  4622.000000\n",
              "mean    927.254868     1.075725     7.464336\n",
              "std     528.890796     0.410186     4.245557\n",
              "min       1.000000     1.000000     1.090000\n",
              "25%     477.250000     1.000000     3.390000\n",
              "50%     926.000000     1.000000     8.750000\n",
              "75%    1393.000000     1.000000     9.250000\n",
              "max    1834.000000    15.000000    44.250000"
            ]
          },
          "metadata": {
            "tags": []
          },
          "execution_count": 33
        }
      ]
    },
    {
      "metadata": {
        "id": "3ETZVu9tiCzt",
        "colab_type": "code",
        "colab": {
          "base_uri": "https://localhost:8080/",
          "height": 173
        },
        "outputId": "53a4ad4b-e62f-4c7e-ab69-3d2a40914c43"
      },
      "cell_type": "code",
      "source": [
        "df.describe(include = ['object'])"
      ],
      "execution_count": 35,
      "outputs": [
        {
          "output_type": "execute_result",
          "data": {
            "text/html": [
              "<div>\n",
              "<style scoped>\n",
              "    .dataframe tbody tr th:only-of-type {\n",
              "        vertical-align: middle;\n",
              "    }\n",
              "\n",
              "    .dataframe tbody tr th {\n",
              "        vertical-align: top;\n",
              "    }\n",
              "\n",
              "    .dataframe thead th {\n",
              "        text-align: right;\n",
              "    }\n",
              "</style>\n",
              "<table border=\"1\" class=\"dataframe\">\n",
              "  <thead>\n",
              "    <tr style=\"text-align: right;\">\n",
              "      <th></th>\n",
              "      <th>item_name</th>\n",
              "    </tr>\n",
              "  </thead>\n",
              "  <tbody>\n",
              "    <tr>\n",
              "      <th>count</th>\n",
              "      <td>4622</td>\n",
              "    </tr>\n",
              "    <tr>\n",
              "      <th>unique</th>\n",
              "      <td>50</td>\n",
              "    </tr>\n",
              "    <tr>\n",
              "      <th>top</th>\n",
              "      <td>Chicken Bowl</td>\n",
              "    </tr>\n",
              "    <tr>\n",
              "      <th>freq</th>\n",
              "      <td>726</td>\n",
              "    </tr>\n",
              "  </tbody>\n",
              "</table>\n",
              "</div>"
            ],
            "text/plain": [
              "           item_name\n",
              "count           4622\n",
              "unique            50\n",
              "top     Chicken Bowl\n",
              "freq             726"
            ]
          },
          "metadata": {
            "tags": []
          },
          "execution_count": 35
        }
      ]
    },
    {
      "metadata": {
        "id": "vzyGmzb9iGxY",
        "colab_type": "code",
        "colab": {
          "base_uri": "https://localhost:8080/",
          "height": 884
        },
        "outputId": "4e9fa8f1-94f4-4322-8f13-073cfcc89300"
      },
      "cell_type": "code",
      "source": [
        "#Count the datapoints\n",
        "df['item_name'].value_counts()"
      ],
      "execution_count": 36,
      "outputs": [
        {
          "output_type": "execute_result",
          "data": {
            "text/plain": [
              "Chicken Bowl                             726\n",
              "Chicken Burrito                          553\n",
              "Chips and Guacamole                      479\n",
              "Steak Burrito                            368\n",
              "Canned Soft Drink                        301\n",
              "Steak Bowl                               211\n",
              "Chips                                    211\n",
              "Bottled Water                            162\n",
              "Chicken Soft Tacos                       115\n",
              "Chicken Salad Bowl                       110\n",
              "Chips and Fresh Tomato Salsa             110\n",
              "Canned Soda                              104\n",
              "Side of Chips                            101\n",
              "Veggie Burrito                            95\n",
              "Barbacoa Burrito                          91\n",
              "Veggie Bowl                               85\n",
              "Carnitas Bowl                             68\n",
              "Barbacoa Bowl                             66\n",
              "Carnitas Burrito                          59\n",
              "Steak Soft Tacos                          55\n",
              "6 Pack Soft Drink                         54\n",
              "Chips and Tomatillo Red Chili Salsa       48\n",
              "Chicken Crispy Tacos                      47\n",
              "Chips and Tomatillo Green Chili Salsa     43\n",
              "Carnitas Soft Tacos                       40\n",
              "Steak Crispy Tacos                        35\n",
              "Chips and Tomatillo-Green Chili Salsa     31\n",
              "Steak Salad Bowl                          29\n",
              "Nantucket Nectar                          27\n",
              "Barbacoa Soft Tacos                       25\n",
              "Chips and Roasted Chili Corn Salsa        22\n",
              "Izze                                      20\n",
              "Chips and Tomatillo-Red Chili Salsa       20\n",
              "Veggie Salad Bowl                         18\n",
              "Chips and Roasted Chili-Corn Salsa        18\n",
              "Barbacoa Crispy Tacos                     11\n",
              "Barbacoa Salad Bowl                       10\n",
              "Chicken Salad                              9\n",
              "Veggie Soft Tacos                          7\n",
              "Carnitas Crispy Tacos                      7\n",
              "Burrito                                    6\n",
              "Carnitas Salad Bowl                        6\n",
              "Veggie Salad                               6\n",
              "Steak Salad                                4\n",
              "Salad                                      2\n",
              "Bowl                                       2\n",
              "Crispy Tacos                               2\n",
              "Chips and Mild Fresh Tomato Salsa          1\n",
              "Veggie Crispy Tacos                        1\n",
              "Carnitas Salad                             1\n",
              "Name: item_name, dtype: int64"
            ]
          },
          "metadata": {
            "tags": []
          },
          "execution_count": 36
        }
      ]
    },
    {
      "metadata": {
        "id": "WCX09fDriWCP",
        "colab_type": "code",
        "colab": {
          "base_uri": "https://localhost:8080/",
          "height": 182
        },
        "outputId": "bc1c2f8a-c0ca-49c1-ad78-4a0b1d29a065"
      },
      "cell_type": "code",
      "source": [
        "#Graphical\n",
        "#histogram of independent attributes\n",
        "plt.subplot(221)\n",
        "sns.distplot(df['order_id'], color = 'b')\n"
      ],
      "execution_count": 40,
      "outputs": [
        {
          "output_type": "execute_result",
          "data": {
            "text/plain": [
              "<matplotlib.axes._subplots.AxesSubplot at 0x7f83bd792160>"
            ]
          },
          "metadata": {
            "tags": []
          },
          "execution_count": 40
        },
        {
          "output_type": "display_data",
          "data": {
            "image/png": "[encoded data removed]",
            "text/plain": [
              "<Figure size 432x288 with 1 Axes>"
            ]
          },
          "metadata": {
            "tags": []
          }
        }
      ]
    },
    {
      "metadata": {
        "id": "1jlUlpYFiyQX",
        "colab_type": "code",
        "colab": {
          "base_uri": "https://localhost:8080/",
          "height": 300
        },
        "outputId": "4f69c84b-ada8-4a3e-f2d2-f27aa3a2ab28"
      },
      "cell_type": "code",
      "source": [
        "sns.boxplot(x = 'quantity', y = 'item_price',data = df)"
      ],
      "execution_count": 46,
      "outputs": [
        {
          "output_type": "execute_result",
          "data": {
            "text/plain": [
              "<matplotlib.axes._subplots.AxesSubplot at 0x7f83bd233b70>"
            ]
          },
          "metadata": {
            "tags": []
          },
          "execution_count": 46
        },
        {
          "output_type": "display_data",
          "data": {
            "image/png": "[encoded data removed]",
            "text/plain": [
              "<Figure size 432x288 with 1 Axes>"
            ]
          },
          "metadata": {
            "tags": []
          }
        }
      ]
    },
    {
      "metadata": {
        "id": "1Ue5Rm5QjoU4",
        "colab_type": "code",
        "colab": {
          "base_uri": "https://localhost:8080/",
          "height": 301
        },
        "outputId": "4d647e89-66c7-41e7-98d3-7c76686fb9b2"
      },
      "cell_type": "code",
      "source": [
        "#Bar plot\n",
        "sns.countplot(df['item_name'])"
      ],
      "execution_count": 47,
      "outputs": [
        {
          "output_type": "execute_result",
          "data": {
            "text/plain": [
              "<matplotlib.axes._subplots.AxesSubplot at 0x7f83bd731be0>"
            ]
          },
          "metadata": {
            "tags": []
          },
          "execution_count": 47
        },
        {
          "output_type": "display_data",
          "data": {
            "image/png": "[encoded data removed]",
            "text/plain": [
              "<Figure size 432x288 with 1 Axes>"
            ]
          },
          "metadata": {
            "tags": []
          }
        }
      ]
    },
    {
      "metadata": {
        "id": "cVBsqJhVkTPr",
        "colab_type": "code",
        "colab": {
          "base_uri": "https://localhost:8080/",
          "height": 459
        },
        "outputId": "b9596c3f-7324-488f-bbec-6e4689663bee"
      },
      "cell_type": "code",
      "source": [
        "#Bivariate Analysis\n",
        "#Contingency Table\n",
        "pd.crosstab(df['quantity'], df['item_name'])"
      ],
      "execution_count": 48,
      "outputs": [
        {
          "output_type": "execute_result",
          "data": {
            "text/html": [
              "<div>\n",
              "<style scoped>\n",
              "    .dataframe tbody tr th:only-of-type {\n",
              "        vertical-align: middle;\n",
              "    }\n",
              "\n",
              "    .dataframe tbody tr th {\n",
              "        vertical-align: top;\n",
              "    }\n",
              "\n",
              "    .dataframe thead th {\n",
              "        text-align: right;\n",
              "    }\n",
              "</style>\n",
              "<table border=\"1\" class=\"dataframe\">\n",
              "  <thead>\n",
              "    <tr style=\"text-align: right;\">\n",
              "      <th>item_name</th>\n",
              "      <th>6 Pack Soft Drink</th>\n",
              "      <th>Barbacoa Bowl</th>\n",
              "      <th>Barbacoa Burrito</th>\n",
              "      <th>Barbacoa Crispy Tacos</th>\n",
              "      <th>Barbacoa Salad Bowl</th>\n",
              "      <th>Barbacoa Soft Tacos</th>\n",
              "      <th>Bottled Water</th>\n",
              "      <th>Bowl</th>\n",
              "      <th>Burrito</th>\n",
              "      <th>Canned Soda</th>\n",
              "      <th>...</th>\n",
              "      <th>Steak Crispy Tacos</th>\n",
              "      <th>Steak Salad</th>\n",
              "      <th>Steak Salad Bowl</th>\n",
              "      <th>Steak Soft Tacos</th>\n",
              "      <th>Veggie Bowl</th>\n",
              "      <th>Veggie Burrito</th>\n",
              "      <th>Veggie Crispy Tacos</th>\n",
              "      <th>Veggie Salad</th>\n",
              "      <th>Veggie Salad Bowl</th>\n",
              "      <th>Veggie Soft Tacos</th>\n",
              "    </tr>\n",
              "    <tr>\n",
              "      <th>quantity</th>\n",
              "      <th></th>\n",
              "      <th></th>\n",
              "      <th></th>\n",
              "      <th></th>\n",
              "      <th></th>\n",
              "      <th></th>\n",
              "      <th></th>\n",
              "      <th></th>\n",
              "      <th></th>\n",
              "      <th></th>\n",
              "      <th></th>\n",
              "      <th></th>\n",
              "      <th></th>\n",
              "      <th></th>\n",
              "      <th></th>\n",
              "      <th></th>\n",
              "      <th></th>\n",
              "      <th></th>\n",
              "      <th></th>\n",
              "      <th></th>\n",
              "      <th></th>\n",
              "    </tr>\n",
              "  </thead>\n",
              "  <tbody>\n",
              "    <tr>\n",
              "      <th>1</th>\n",
              "      <td>53</td>\n",
              "      <td>66</td>\n",
              "      <td>91</td>\n",
              "      <td>10</td>\n",
              "      <td>10</td>\n",
              "      <td>25</td>\n",
              "      <td>139</td>\n",
              "      <td>1</td>\n",
              "      <td>6</td>\n",
              "      <td>84</td>\n",
              "      <td>...</td>\n",
              "      <td>34</td>\n",
              "      <td>4</td>\n",
              "      <td>27</td>\n",
              "      <td>54</td>\n",
              "      <td>83</td>\n",
              "      <td>94</td>\n",
              "      <td>1</td>\n",
              "      <td>6</td>\n",
              "      <td>18</td>\n",
              "      <td>6</td>\n",
              "    </tr>\n",
              "    <tr>\n",
              "      <th>2</th>\n",
              "      <td>1</td>\n",
              "      <td>0</td>\n",
              "      <td>0</td>\n",
              "      <td>1</td>\n",
              "      <td>0</td>\n",
              "      <td>0</td>\n",
              "      <td>12</td>\n",
              "      <td>0</td>\n",
              "      <td>0</td>\n",
              "      <td>19</td>\n",
              "      <td>...</td>\n",
              "      <td>1</td>\n",
              "      <td>0</td>\n",
              "      <td>2</td>\n",
              "      <td>1</td>\n",
              "      <td>2</td>\n",
              "      <td>0</td>\n",
              "      <td>0</td>\n",
              "      <td>0</td>\n",
              "      <td>0</td>\n",
              "      <td>1</td>\n",
              "    </tr>\n",
              "    <tr>\n",
              "      <th>3</th>\n",
              "      <td>0</td>\n",
              "      <td>0</td>\n",
              "      <td>0</td>\n",
              "      <td>0</td>\n",
              "      <td>0</td>\n",
              "      <td>0</td>\n",
              "      <td>6</td>\n",
              "      <td>1</td>\n",
              "      <td>0</td>\n",
              "      <td>0</td>\n",
              "      <td>...</td>\n",
              "      <td>0</td>\n",
              "      <td>0</td>\n",
              "      <td>0</td>\n",
              "      <td>0</td>\n",
              "      <td>0</td>\n",
              "      <td>1</td>\n",
              "      <td>0</td>\n",
              "      <td>0</td>\n",
              "      <td>0</td>\n",
              "      <td>0</td>\n",
              "    </tr>\n",
              "    <tr>\n",
              "      <th>4</th>\n",
              "      <td>0</td>\n",
              "      <td>0</td>\n",
              "      <td>0</td>\n",
              "      <td>0</td>\n",
              "      <td>0</td>\n",
              "      <td>0</td>\n",
              "      <td>2</td>\n",
              "      <td>0</td>\n",
              "      <td>0</td>\n",
              "      <td>1</td>\n",
              "      <td>...</td>\n",
              "      <td>0</td>\n",
              "      <td>0</td>\n",
              "      <td>0</td>\n",
              "      <td>0</td>\n",
              "      <td>0</td>\n",
              "      <td>0</td>\n",
              "      <td>0</td>\n",
              "      <td>0</td>\n",
              "      <td>0</td>\n",
              "      <td>0</td>\n",
              "    </tr>\n",
              "    <tr>\n",
              "      <th>5</th>\n",
              "      <td>0</td>\n",
              "      <td>0</td>\n",
              "      <td>0</td>\n",
              "      <td>0</td>\n",
              "      <td>0</td>\n",
              "      <td>0</td>\n",
              "      <td>1</td>\n",
              "      <td>0</td>\n",
              "      <td>0</td>\n",
              "      <td>0</td>\n",
              "      <td>...</td>\n",
              "      <td>0</td>\n",
              "      <td>0</td>\n",
              "      <td>0</td>\n",
              "      <td>0</td>\n",
              "      <td>0</td>\n",
              "      <td>0</td>\n",
              "      <td>0</td>\n",
              "      <td>0</td>\n",
              "      <td>0</td>\n",
              "      <td>0</td>\n",
              "    </tr>\n",
              "    <tr>\n",
              "      <th>7</th>\n",
              "      <td>0</td>\n",
              "      <td>0</td>\n",
              "      <td>0</td>\n",
              "      <td>0</td>\n",
              "      <td>0</td>\n",
              "      <td>0</td>\n",
              "      <td>1</td>\n",
              "      <td>0</td>\n",
              "      <td>0</td>\n",
              "      <td>0</td>\n",
              "      <td>...</td>\n",
              "      <td>0</td>\n",
              "      <td>0</td>\n",
              "      <td>0</td>\n",
              "      <td>0</td>\n",
              "      <td>0</td>\n",
              "      <td>0</td>\n",
              "      <td>0</td>\n",
              "      <td>0</td>\n",
              "      <td>0</td>\n",
              "      <td>0</td>\n",
              "    </tr>\n",
              "    <tr>\n",
              "      <th>8</th>\n",
              "      <td>0</td>\n",
              "      <td>0</td>\n",
              "      <td>0</td>\n",
              "      <td>0</td>\n",
              "      <td>0</td>\n",
              "      <td>0</td>\n",
              "      <td>0</td>\n",
              "      <td>0</td>\n",
              "      <td>0</td>\n",
              "      <td>0</td>\n",
              "      <td>...</td>\n",
              "      <td>0</td>\n",
              "      <td>0</td>\n",
              "      <td>0</td>\n",
              "      <td>0</td>\n",
              "      <td>0</td>\n",
              "      <td>0</td>\n",
              "      <td>0</td>\n",
              "      <td>0</td>\n",
              "      <td>0</td>\n",
              "      <td>0</td>\n",
              "    </tr>\n",
              "    <tr>\n",
              "      <th>10</th>\n",
              "      <td>0</td>\n",
              "      <td>0</td>\n",
              "      <td>0</td>\n",
              "      <td>0</td>\n",
              "      <td>0</td>\n",
              "      <td>0</td>\n",
              "      <td>1</td>\n",
              "      <td>0</td>\n",
              "      <td>0</td>\n",
              "      <td>0</td>\n",
              "      <td>...</td>\n",
              "      <td>0</td>\n",
              "      <td>0</td>\n",
              "      <td>0</td>\n",
              "      <td>0</td>\n",
              "      <td>0</td>\n",
              "      <td>0</td>\n",
              "      <td>0</td>\n",
              "      <td>0</td>\n",
              "      <td>0</td>\n",
              "      <td>0</td>\n",
              "    </tr>\n",
              "    <tr>\n",
              "      <th>15</th>\n",
              "      <td>0</td>\n",
              "      <td>0</td>\n",
              "      <td>0</td>\n",
              "      <td>0</td>\n",
              "      <td>0</td>\n",
              "      <td>0</td>\n",
              "      <td>0</td>\n",
              "      <td>0</td>\n",
              "      <td>0</td>\n",
              "      <td>0</td>\n",
              "      <td>...</td>\n",
              "      <td>0</td>\n",
              "      <td>0</td>\n",
              "      <td>0</td>\n",
              "      <td>0</td>\n",
              "      <td>0</td>\n",
              "      <td>0</td>\n",
              "      <td>0</td>\n",
              "      <td>0</td>\n",
              "      <td>0</td>\n",
              "      <td>0</td>\n",
              "    </tr>\n",
              "  </tbody>\n",
              "</table>\n",
              "<p>9 rows × 50 columns</p>\n",
              "</div>"
            ],
            "text/plain": [
              "item_name  6 Pack Soft Drink  Barbacoa Bowl  Barbacoa Burrito  \\\n",
              "quantity                                                        \n",
              "1                         53             66                91   \n",
              "2                          1              0                 0   \n",
              "3                          0              0                 0   \n",
              "4                          0              0                 0   \n",
              "5                          0              0                 0   \n",
              "7                          0              0                 0   \n",
              "8                          0              0                 0   \n",
              "10                         0              0                 0   \n",
              "15                         0              0                 0   \n",
              "\n",
              "item_name  Barbacoa Crispy Tacos  Barbacoa Salad Bowl  Barbacoa Soft Tacos  \\\n",
              "quantity                                                                     \n",
              "1                             10                   10                   25   \n",
              "2                              1                    0                    0   \n",
              "3                              0                    0                    0   \n",
              "4                              0                    0                    0   \n",
              "5                              0                    0                    0   \n",
              "7                              0                    0                    0   \n",
              "8                              0                    0                    0   \n",
              "10                             0                    0                    0   \n",
              "15                             0                    0                    0   \n",
              "\n",
              "item_name  Bottled Water  Bowl  Burrito  Canned Soda  ...  Steak Crispy Tacos  \\\n",
              "quantity                                              ...                       \n",
              "1                    139     1        6           84  ...                  34   \n",
              "2                     12     0        0           19  ...                   1   \n",
              "3                      6     1        0            0  ...                   0   \n",
              "4                      2     0        0            1  ...                   0   \n",
              "5                      1     0        0            0  ...                   0   \n",
              "7                      1     0        0            0  ...                   0   \n",
              "8                      0     0        0            0  ...                   0   \n",
              "10                     1     0        0            0  ...                   0   \n",
              "15                     0     0        0            0  ...                   0   \n",
              "\n",
              "item_name  Steak Salad  Steak Salad Bowl  Steak Soft Tacos  Veggie Bowl  \\\n",
              "quantity                                                                  \n",
              "1                    4                27                54           83   \n",
              "2                    0                 2                 1            2   \n",
              "3                    0                 0                 0            0   \n",
              "4                    0                 0                 0            0   \n",
              "5                    0                 0                 0            0   \n",
              "7                    0                 0                 0            0   \n",
              "8                    0                 0                 0            0   \n",
              "10                   0                 0                 0            0   \n",
              "15                   0                 0                 0            0   \n",
              "\n",
              "item_name  Veggie Burrito  Veggie Crispy Tacos  Veggie Salad  \\\n",
              "quantity                                                       \n",
              "1                      94                    1             6   \n",
              "2                       0                    0             0   \n",
              "3                       1                    0             0   \n",
              "4                       0                    0             0   \n",
              "5                       0                    0             0   \n",
              "7                       0                    0             0   \n",
              "8                       0                    0             0   \n",
              "10                      0                    0             0   \n",
              "15                      0                    0             0   \n",
              "\n",
              "item_name  Veggie Salad Bowl  Veggie Soft Tacos  \n",
              "quantity                                         \n",
              "1                         18                  6  \n",
              "2                          0                  1  \n",
              "3                          0                  0  \n",
              "4                          0                  0  \n",
              "5                          0                  0  \n",
              "7                          0                  0  \n",
              "8                          0                  0  \n",
              "10                         0                  0  \n",
              "15                         0                  0  \n",
              "\n",
              "[9 rows x 50 columns]"
            ]
          },
          "metadata": {
            "tags": []
          },
          "execution_count": 48
        }
      ]
    },
    {
      "metadata": {
        "id": "xZ6Cg9M4kjQe",
        "colab_type": "code",
        "colab": {}
      },
      "cell_type": "code",
      "source": [
        "numerical = ['order_id', 'item_price', 'quantity']\n",
        "categorical = ['item_name']"
      ],
      "execution_count": 0,
      "outputs": []
    },
    {
      "metadata": {
        "id": "v1NuLWISk8ug",
        "colab_type": "code",
        "colab": {
          "base_uri": "https://localhost:8080/",
          "height": 85
        },
        "outputId": "e0979b5f-e03b-4a92-cd48-ae2bbdb51ff2"
      },
      "cell_type": "code",
      "source": [
        "#Correlation matrix\n",
        "corr_matrix = df[numerical].corr()\n",
        "print(corr_matrix)"
      ],
      "execution_count": 51,
      "outputs": [
        {
          "output_type": "stream",
          "text": [
            "            order_id  item_price  quantity\n",
            "order_id    1.000000   -0.001618  0.032397\n",
            "item_price -0.001618    1.000000  0.263981\n",
            "quantity    0.032397    0.263981  1.000000\n"
          ],
          "name": "stdout"
        }
      ]
    },
    {
      "metadata": {
        "id": "7tBilrsLlAY2",
        "colab_type": "code",
        "colab": {
          "base_uri": "https://localhost:8080/",
          "height": 287
        },
        "outputId": "183fdc7b-6df2-4e76-c236-32a08bbd4b89"
      },
      "cell_type": "code",
      "source": [
        "sns.heatmap(corr_matrix)"
      ],
      "execution_count": 52,
      "outputs": [
        {
          "output_type": "execute_result",
          "data": {
            "text/plain": [
              "<matplotlib.axes._subplots.AxesSubplot at 0x7f83bd7ffc50>"
            ]
          },
          "metadata": {
            "tags": []
          },
          "execution_count": 52
        },
        {
          "output_type": "display_data",
          "data": {
            "image/png": "[encoded data removed]",
            "text/plain": [
              "<Figure size 432x288 with 2 Axes>"
            ]
          },
          "metadata": {
            "tags": []
          }
        }
      ]
    },
    {
      "metadata": {
        "id": "EpdI4pB8lMjT",
        "colab_type": "code",
        "colab": {
          "base_uri": "https://localhost:8080/",
          "height": 458
        },
        "outputId": "bfaca4c2-d73a-418c-85b6-d691fd44823d"
      },
      "cell_type": "code",
      "source": [
        "#Scatter Plot\n",
        "sns.jointplot(x = 'quantity', y ='item_price', data = df, kind = 'scatter')"
      ],
      "execution_count": 53,
      "outputs": [
        {
          "output_type": "execute_result",
          "data": {
            "text/plain": [
              "<seaborn.axisgrid.JointGrid at 0x7f83bd88ccc0>"
            ]
          },
          "metadata": {
            "tags": []
          },
          "execution_count": 53
        },
        {
          "output_type": "display_data",
          "data": {
            "image/png": "[encoded data removed]",
            "text/plain": [
              "<Figure size 432x432 with 3 Axes>"
            ]
          },
          "metadata": {
            "tags": []
          }
        }
      ]
    },
    {
      "metadata": {
        "id": "wppu_XEjlg3t",
        "colab_type": "code",
        "colab": {
          "base_uri": "https://localhost:8080/",
          "height": 549
        },
        "outputId": "6f0f4687-67b6-4a36-a2cc-44aeb1f2a042"
      },
      "cell_type": "code",
      "source": [
        "#Pair Plot\n",
        "sns.pairplot(df[numerical])\n",
        "plt.show()"
      ],
      "execution_count": 55,
      "outputs": [
        {
          "output_type": "display_data",
          "data": {
            "image/png": "[encoded data removed]",
            "text/plain": [
              "<Figure size 540x540 with 12 Axes>"
            ]
          },
          "metadata": {
            "tags": []
          }
        }
      ]
    },
    {
      "metadata": {
        "id": "H4g7DM0Rlrp-",
        "colab_type": "code",
        "colab": {}
      },
      "cell_type": "code",
      "source": [
        ""
      ],
      "execution_count": 0,
      "outputs": []
    }
  ]
}